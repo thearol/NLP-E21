{
 "cells": [
  {
   "cell_type": "markdown",
   "metadata": {},
   "source": [
    "# Exercises on Attention\n",
    "In the following exercises, we will take a look at dot product attention, we will use word embeddings for this, however these would in the context of encoder-decoder models be hidden states from the decoder and encoder."
   ]
  },
  {
   "cell_type": "code",
   "execution_count": 1,
   "metadata": {},
   "outputs": [],
   "source": [
    "import gensim.downloader as api\n",
    "model = api.load(\"glove-wiki-gigaword-50\")"
   ]
  },
  {
   "cell_type": "markdown",
   "metadata": {},
   "source": [
    "1) Calculate the dot product between two word embeddings that you believe are similar"
   ]
  },
  {
   "cell_type": "code",
   "execution_count": 3,
   "metadata": {},
   "outputs": [
    {
     "data": {
      "text/plain": [
       "16.078485"
      ]
     },
     "execution_count": 3,
     "metadata": {},
     "output_type": "execute_result"
    }
   ],
   "source": [
    "import numpy as np\n",
    "np.dot(model[\"goose\"], model[\"duck\"])"
   ]
  },
  {
   "cell_type": "markdown",
   "metadata": {},
   "source": [
    "2) Calculate the dot product between the two word and a word which you believe is dissimilar"
   ]
  },
  {
   "cell_type": "code",
   "execution_count": 4,
   "metadata": {},
   "outputs": [
    {
     "data": {
      "text/plain": [
       "11.842581"
      ]
     },
     "execution_count": 4,
     "metadata": {},
     "output_type": "execute_result"
    }
   ],
   "source": [
    "np.dot(model[\"goose\"], model[\"moose\"])\n",
    "np.dot(model[\"duck\"], model[\"moose\"])"
   ]
  },
  {
   "cell_type": "markdown",
   "metadata": {},
   "source": [
    "3) make the three words into a matrix $E$ and multiply it with its own transpose using matrix multiplication. So $E \\cdot E^T$\n",
    "  - what do the entries in the matrix correspond to? What do you imagine the dot product is? *Hint*, the similarity between vectors (cosine similarity) is exactly the same as the dot product assuming you normalize the length of each vector to 1.\n",
    "\n",
    "Following the article by Lindsay et al (2020) this is one way (out of many) to implement the attention mechanism denoted ${\\tilde{\\alpha_t}} = \\phi(h_{t-1}, c) = h_{t-1} \\cdot c^T$ (3.1) called dot product attention. \n"
   ]
  },
  {
   "cell_type": "code",
   "execution_count": 6,
   "metadata": {},
   "outputs": [
    {
     "data": {
      "text/plain": [
       "array([[20.631552, 16.078485, 14.530851],\n",
       "       [16.078485, 23.134829, 11.84258 ],\n",
       "       [14.530851, 11.84258 , 16.661507]], dtype=float32)"
      ]
     },
     "execution_count": 6,
     "metadata": {},
     "output_type": "execute_result"
    }
   ],
   "source": [
    "E = model[\"goose\", \"duck\", \"moose\"]\n",
    "\n",
    "E @ E.T"
   ]
  },
  {
   "cell_type": "markdown",
   "metadata": {},
   "source": [
    "4) Assume $h_{t-1}$ our previous hidden state is the word vector for \"hei\", calculate the attention the $h_{t-1}$ and the embeddings $\\mathcal{E}_{greetings}$, $\\mathcal{E}_{hello}$, $\\mathcal{E}_{jungle}$. Remember that the attention weight is given by $\\boldsymbol{\\alpha_t} = softmax(\\boldsymbol{\\tilde{\\alpha_t}})$ (3.2).\n"
   ]
  },
  {
   "cell_type": "code",
   "execution_count": 36,
   "metadata": {},
   "outputs": [
    {
     "name": "stderr",
     "output_type": "stream",
     "text": [
      "<ipython-input-36-9103eb445928>:12: UserWarning: Implicit dimension choice for softmax has been deprecated. Change the call to include dim=X as an argument.\n",
      "  attention = softmax(attn_)\n"
     ]
    }
   ],
   "source": [
    "from torch.nn.functional import softmax\n",
    "import torch\n",
    "\n",
    "\n",
    "ht = model[\"hei\"]\n",
    "\n",
    "E = model[\"greetings\", \"hello\", \"jungle\"]\n",
    "\n",
    "attn_ = ht @ E.T\n",
    "attn_ = torch.tensor(attn_)\n",
    "\n",
    "attention = softmax(attn_)\n",
    "attention = attention.view(1, 3)"
   ]
  },
  {
   "cell_type": "markdown",
   "metadata": {},
   "source": [
    "5) The matrix resulting from the softmax is referred to as the attention matrix and is how much each embedding should be weighted (paid attention to) when we multiply our attention matrix by our matrix embeddings consisting of $\\mathcal{E}_{greetings}$, $\\mathcal{E}_{hello}$, $\\mathcal{E}_{jungle}$. Try it out:\n"
   ]
  },
  {
   "cell_type": "code",
   "execution_count": 37,
   "metadata": {},
   "outputs": [],
   "source": [
    "matrix_from_5 = attention @ E"
   ]
  },
  {
   "cell_type": "markdown",
   "metadata": {},
   "source": [
    "- 5.1) This is essentially a weighted sum, one way to see this is to extract the weight from the first row of the matrix"
   ]
  },
  {
   "cell_type": "code",
   "execution_count": 40,
   "metadata": {},
   "outputs": [
    {
     "name": "stdout",
     "output_type": "stream",
     "text": [
      "tensor([0.1684, 0.7876, 0.0441])\n"
     ]
    },
    {
     "data": {
      "text/plain": [
       "tensor([True, True, True, True, True, True, True, True, True, True, True, True,\n",
       "        True, True, True, True, True, True, True, True, True, True, True, True,\n",
       "        True, True, True, True, True, True, True, True, True, True, True, True,\n",
       "        True, True, True, True, True, True, True, True, True, True, True, True,\n",
       "        True, True])"
      ]
     },
     "execution_count": 40,
     "metadata": {},
     "output_type": "execute_result"
    }
   ],
   "source": [
    "attn = attention[0] # first row of our attention matrix\n",
    "print(attn)\n",
    "weighted = attn[0] * model[\"greetings\"] + attn[1] * model[\"hello\"] + attn[2] * model[\"jungle\"]\n",
    "\n",
    "# compare the weighted embedding with the first column in the matrix from 5).\n",
    "\n",
    "matrix_from_5[0] - weighted < 000.1"
   ]
  },
  {
   "cell_type": "markdown",
   "metadata": {},
   "source": [
    "  - 6.1) Examine the attention matrix, which words have a higher attention weight and why?\n",
    "\n",
    "*Hint* you can plot the matrix using:\n",
    "```\n",
    "H = model[\"man\", \"banana\"]\n",
    "C = model[[\"woman\", \"apple\", \"pineapple\"]\n",
    "wieghted, attn = attention(H, C)\n",
    "\n",
    "import matplotlib.pyplot as plt\n",
    "plt.matshow(attn)\n",
    "plt.show()\n",
    "```"
   ]
  },
  {
   "cell_type": "code",
   "execution_count": 53,
   "metadata": {},
   "outputs": [],
   "source": [
    "def attention(query, value, scale=False):\n",
    "    \"Compute (Scaled) Dot Product Attention'\"\n",
    "    query = torch.tensor(query)\n",
    "    value = torch.tensor(value)\n",
    "    d_k = query.shape[-1]\n",
    "    if scale:\n",
    "        scores = torch.matmul(query, value.T) / np.sqrt(d_k)\n",
    "    else:\n",
    "        scores = torch.matmul(query, value.T) \n",
    "    p_attn = softmax(scores)\n",
    "    return torch.matmul(p_attn, value), p_attn"
   ]
  },
  {
   "cell_type": "code",
   "execution_count": 54,
   "metadata": {},
   "outputs": [
    {
     "name": "stderr",
     "output_type": "stream",
     "text": [
      "<ipython-input-53-60fba23f5a71>:10: UserWarning: Implicit dimension choice for softmax has been deprecated. Change the call to include dim=X as an argument.\n",
      "  p_attn = softmax(scores)\n"
     ]
    },
    {
     "data": {
      "image/png": "[encoded data removed]",
      "text/plain": [
       "<Figure size 432x288 with 1 Axes>"
      ]
     },
     "metadata": {
      "needs_background": "light"
     },
     "output_type": "display_data"
    }
   ],
   "source": [
    "H = model[\"man\", \"banana\"]\n",
    "C = model[\"woman\", \"apple\", \"pineapple\"]\n",
    "scores, attn = attention(H, C)\n",
    "\n",
    "import matplotlib.pyplot as plt\n",
    "plt.matshow(attn)\n",
    "plt.show()"
   ]
  },
  {
   "cell_type": "code",
   "execution_count": 55,
   "metadata": {},
   "outputs": [
    {
     "name": "stderr",
     "output_type": "stream",
     "text": [
      "<ipython-input-53-60fba23f5a71>:10: UserWarning: Implicit dimension choice for softmax has been deprecated. Change the call to include dim=X as an argument.\n",
      "  p_attn = softmax(scores)\n"
     ]
    },
    {
     "data": {
      "image/png": "[encoded data removed]",
      "text/plain": [
       "<Figure size 432x288 with 1 Axes>"
      ]
     },
     "metadata": {
      "needs_background": "light"
     },
     "output_type": "display_data"
    }
   ],
   "source": [
    "\n",
    "scores, attn = attention(H, C, scale = True)\n",
    "\n",
    "import matplotlib.pyplot as plt\n",
    "plt.matshow(attn)\n",
    "plt.show()"
   ]
  },
  {
   "cell_type": "markdown",
   "metadata": {},
   "source": []
  }
 ],
 "metadata": {
  "interpreter": {
   "hash": "021482b7625aaacc2d343324781c6ce2f121934a239bde69eda2b56fdffea080"
  },
  "kernelspec": {
   "display_name": "Python 3.8.12 64-bit ('NLP': virtualenv)",
   "name": "python3"
  },
  "language_info": {
   "codemirror_mode": {
    "name": "ipython",
    "version": 3
   },
   "file_extension": ".py",
   "mimetype": "text/x-python",
   "name": "python",
   "nbconvert_exporter": "python",
   "pygments_lexer": "ipython3",
   "version": "3.8.12"
  },
  "orig_nbformat": 4
 },
 "nbformat": 4,
 "nbformat_minor": 2
}
